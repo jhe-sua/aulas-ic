{
 "cells": [
  {
   "cell_type": "markdown",
   "metadata": {},
   "source": [
    "# Explorando dataframes"
   ]
  },
  {
   "cell_type": "code",
   "execution_count": 33,
   "metadata": {},
   "outputs": [],
   "source": [
    "import numpy as np\n",
    "import pandas as pd"
   ]
  },
  {
   "cell_type": "code",
   "execution_count": null,
   "metadata": {},
   "outputs": [],
   "source": [
    "data = pd.read_csv(\"/home/fgv/code/env_prog/arc/dados.csv\", header=2)\n",
    "data"
   ]
  },
  {
   "cell_type": "markdown",
   "metadata": {},
   "source": [
    "Revisão da ultima aula, metodos e relembrando que fizemos"
   ]
  },
  {
   "cell_type": "code",
   "execution_count": null,
   "metadata": {},
   "outputs": [],
   "source": [
    "del data[\"Unnamed: 60\"]\n",
    "data[\"Country Code\"]\n",
    "data.info()\n",
    "data.to_parquet(\"aula06_dados.parquet\")"
   ]
  },
  {
   "cell_type": "code",
   "execution_count": null,
   "metadata": {},
   "outputs": [],
   "source": [
    "dados2 = data.set_index(\"Country Code\")\n",
    "dados2.loc[\"BRA\",[\"1960\",\"1961\"]]"
   ]
  },
  {
   "cell_type": "markdown",
   "metadata": {},
   "source": [
    "abaixo temos duas formas de filtrar linhas e colunas, a segunda forma mais correta que a primeira, pois não perde regferencias pois faz as duas coisas paralelamentekbj"
   ]
  },
  {
   "cell_type": "code",
   "execution_count": null,
   "metadata": {},
   "outputs": [],
   "source": [
    "data.loc[(pd.notna(data[\"1960\"])) & (pd.notna(data[\"1970\"]))][[\"Country Name\",\"1960\",\"1970\"]]\n",
    "\n",
    "data.loc[(pd.notna(data[\"1960\"])) & (pd.notna(data[\"1970\"])), [\"Country Name\", \"1960\", \"1970\"]]\n",
    "\n"
   ]
  },
  {
   "cell_type": "markdown",
   "metadata": {},
   "source": [
    "Brincando com loc, para achar linhas e colunas, loc pode achar por nomes enquanto iloc apenas com os numeros"
   ]
  },
  {
   "cell_type": "code",
   "execution_count": null,
   "metadata": {},
   "outputs": [],
   "source": [
    "\n",
    "data2 = data.set_index(\"Indicator Name\")\n",
    "\n",
    "data2.loc[[\"Agricultural machinery, tractors\", \"Battle-related deaths (number of people)\"], [\"Country Name\", \"Country Code\"]]"
   ]
  }
 ],
 "metadata": {
  "kernelspec": {
   "display_name": ".venv",
   "language": "python",
   "name": "python3"
  },
  "language_info": {
   "codemirror_mode": {
    "name": "ipython",
    "version": 3
   },
   "file_extension": ".py",
   "mimetype": "text/x-python",
   "name": "python",
   "nbconvert_exporter": "python",
   "pygments_lexer": "ipython3",
   "version": "3.10.12"
  }
 },
 "nbformat": 4,
 "nbformat_minor": 2
}
