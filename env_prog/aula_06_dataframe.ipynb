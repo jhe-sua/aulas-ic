{
 "cells": [
  {
   "cell_type": "markdown",
   "metadata": {},
   "source": [
    "# Teste"
   ]
  },
  {
   "cell_type": "code",
   "execution_count": 78,
   "metadata": {},
   "outputs": [],
   "source": [
    "import pandas as pd\n",
    "import numpy as np"
   ]
  },
  {
   "cell_type": "code",
   "execution_count": null,
   "metadata": {},
   "outputs": [],
   "source": [
    "#carregamos o arquivo em data\n",
    "data = pd.read_csv(\"/home/fgv/code/env_prog/arc/dados.csv\",header=2, sep=\",\")\n",
    "#apagamos a ultima coluna\n",
    "del data[\"Unnamed: 60\"]\n",
    "data"
   ]
  },
  {
   "cell_type": "code",
   "execution_count": 51,
   "metadata": {},
   "outputs": [],
   "source": [
    "#convertendo nosso dataframe em um arquivo parquet\n",
    "data.to_parquet(\"/home/fgv/code/env_prog/arc/aula06.parquet\")"
   ]
  },
  {
   "cell_type": "code",
   "execution_count": 50,
   "metadata": {},
   "outputs": [],
   "source": [
    "#faendo com que uma coluna seja o novo index\n",
    "data_2 = data.set_index(\"Country Code\")"
   ]
  },
  {
   "cell_type": "code",
   "execution_count": null,
   "metadata": {},
   "outputs": [],
   "source": [
    "#retorna todas as linhas que tiverem o index igual a BRA\n",
    "data_2.loc[\"BRA\"]"
   ]
  },
  {
   "cell_type": "code",
   "execution_count": null,
   "metadata": {},
   "outputs": [],
   "source": [
    "#aqui da coluna 1960, pegamos todas as linhas que não tiverem valores valores nulos e isso retorna um dataframe de cada linha com true ou false\n",
    "#logo data exibe cada linha com true\n",
    "data[pd.notna(data[\"1960\"])]"
   ]
  },
  {
   "cell_type": "code",
   "execution_count": 86,
   "metadata": {},
   "outputs": [
    {
     "data": {
      "text/html": [
       "<div>\n",
       "<style scoped>\n",
       "    .dataframe tbody tr th:only-of-type {\n",
       "        vertical-align: middle;\n",
       "    }\n",
       "\n",
       "    .dataframe tbody tr th {\n",
       "        vertical-align: top;\n",
       "    }\n",
       "\n",
       "    .dataframe thead th {\n",
       "        text-align: right;\n",
       "    }\n",
       "</style>\n",
       "<table border=\"1\" class=\"dataframe\">\n",
       "  <thead>\n",
       "    <tr style=\"text-align: right;\">\n",
       "      <th></th>\n",
       "      <th>Country Name</th>\n",
       "      <th>1960</th>\n",
       "      <th>1970</th>\n",
       "    </tr>\n",
       "  </thead>\n",
       "  <tbody>\n",
       "    <tr>\n",
       "      <th>79</th>\n",
       "      <td>Brazil</td>\n",
       "      <td>-1.300000e+05</td>\n",
       "      <td>6.100000e+05</td>\n",
       "    </tr>\n",
       "    <tr>\n",
       "      <th>85</th>\n",
       "      <td>Brazil</td>\n",
       "      <td>1.260000e+06</td>\n",
       "      <td>2.734000e+07</td>\n",
       "    </tr>\n",
       "    <tr>\n",
       "      <th>94</th>\n",
       "      <td>Brazil</td>\n",
       "      <td>2.320000e+06</td>\n",
       "      <td>-5.280000e+06</td>\n",
       "    </tr>\n",
       "    <tr>\n",
       "      <th>95</th>\n",
       "      <td>Brazil</td>\n",
       "      <td>-2.150000e+06</td>\n",
       "      <td>-1.186000e+07</td>\n",
       "    </tr>\n",
       "    <tr>\n",
       "      <th>106</th>\n",
       "      <td>Brazil</td>\n",
       "      <td>4.030000e+07</td>\n",
       "      <td>1.309000e+08</td>\n",
       "    </tr>\n",
       "    <tr>\n",
       "      <th>...</th>\n",
       "      <td>...</td>\n",
       "      <td>...</td>\n",
       "      <td>...</td>\n",
       "    </tr>\n",
       "    <tr>\n",
       "      <th>1328</th>\n",
       "      <td>Brazil</td>\n",
       "      <td>4.567289e-01</td>\n",
       "      <td>2.300639e-02</td>\n",
       "    </tr>\n",
       "    <tr>\n",
       "      <th>1329</th>\n",
       "      <td>Brazil</td>\n",
       "      <td>5.354752e-01</td>\n",
       "      <td>9.125867e-01</td>\n",
       "    </tr>\n",
       "    <tr>\n",
       "      <th>1330</th>\n",
       "      <td>Brazil</td>\n",
       "      <td>6.795811e+00</td>\n",
       "      <td>6.316166e+00</td>\n",
       "    </tr>\n",
       "    <tr>\n",
       "      <th>1331</th>\n",
       "      <td>Brazil</td>\n",
       "      <td>1.269900e+09</td>\n",
       "      <td>2.738370e+09</td>\n",
       "    </tr>\n",
       "    <tr>\n",
       "      <th>1332</th>\n",
       "      <td>Brazil</td>\n",
       "      <td>2.204898e-01</td>\n",
       "      <td>2.278363e+00</td>\n",
       "    </tr>\n",
       "  </tbody>\n",
       "</table>\n",
       "<p>186 rows × 3 columns</p>\n",
       "</div>"
      ],
      "text/plain": [
       "     Country Name          1960          1970\n",
       "79         Brazil -1.300000e+05  6.100000e+05\n",
       "85         Brazil  1.260000e+06  2.734000e+07\n",
       "94         Brazil  2.320000e+06 -5.280000e+06\n",
       "95         Brazil -2.150000e+06 -1.186000e+07\n",
       "106        Brazil  4.030000e+07  1.309000e+08\n",
       "...           ...           ...           ...\n",
       "1328       Brazil  4.567289e-01  2.300639e-02\n",
       "1329       Brazil  5.354752e-01  9.125867e-01\n",
       "1330       Brazil  6.795811e+00  6.316166e+00\n",
       "1331       Brazil  1.269900e+09  2.738370e+09\n",
       "1332       Brazil  2.204898e-01  2.278363e+00\n",
       "\n",
       "[186 rows x 3 columns]"
      ]
     },
     "execution_count": 86,
     "metadata": {},
     "output_type": "execute_result"
    }
   ],
   "source": [
    "#pegamos todas as linhas que onde 1960 nao esta vazio e 1970 nao esta vazio\n",
    "#depois imprimimos as colunas \"Country Name\",\"1960\",\"1970\" desse arquivo data frame que continha todas as colunas que satisfaziam nossa condições\n",
    "\n",
    "data[(pd.notna(data[\"1960\"]))&(pd.notna(data[\"1970\"]))][[\"Country Name\",\"1960\",\"1970\"]]"
   ]
  }
 ],
 "metadata": {
  "kernelspec": {
   "display_name": ".venv",
   "language": "python",
   "name": "python3"
  },
  "language_info": {
   "codemirror_mode": {
    "name": "ipython",
    "version": 3
   },
   "file_extension": ".py",
   "mimetype": "text/x-python",
   "name": "python",
   "nbconvert_exporter": "python",
   "pygments_lexer": "ipython3",
   "version": "3.10.12"
  }
 },
 "nbformat": 4,
 "nbformat_minor": 2
}
