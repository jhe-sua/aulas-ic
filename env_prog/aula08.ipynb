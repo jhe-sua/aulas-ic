{
 "cells": [
  {
   "cell_type": "markdown",
   "metadata": {},
   "source": [
    "# Numeros Palindromicos\n",
    "encontre os primeiros 1000 números naturais palindrômicos (que são iguais nos dois sentidos). \n",
    "Restrições: \n",
    "- ignorar os números de 0 a 9 \n",
    "- ignorar os números que sejam formados exclusivamente do mesmo algarismo, por exemplo: 222222"
   ]
  },
  {
   "cell_type": "code",
   "execution_count": 89,
   "metadata": {},
   "outputs": [],
   "source": [
    "import matplotlib.pyplot as plt\n",
    "import numpy as np\n",
    "import time"
   ]
  },
  {
   "cell_type": "code",
   "execution_count": 87,
   "metadata": {},
   "outputs": [],
   "source": [
    "def palindromos(quantidade = 1001,inicio_exclusivo = 10):\n",
    "    \n",
    "    index = 0\n",
    "    numeros_palindromos = []\n",
    "    while index < quantidade:\n",
    "        \n",
    "        inicio_exclusivo += 1\n",
    "        numero_normal_str = str(inicio_exclusivo)\n",
    "        numero_invertido_str = numero_normal_str[::-1]\n",
    "        if len(set(numero_normal_str)) == 1:\n",
    "            continue\n",
    "        if (numero_normal_str[::1] == numero_invertido_str):\n",
    "            index += 1\n",
    "            numeros_palindromos.append(inicio_exclusivo)\n",
    "    return numeros_palindromos"
   ]
  },
  {
   "cell_type": "code",
   "execution_count": null,
   "metadata": {},
   "outputs": [],
   "source": [
    "%%time\n",
    "grafico_pal = palindromos(5000)\n",
    "grafico_pal[-1]\n"
   ]
  },
  {
   "cell_type": "code",
   "execution_count": null,
   "metadata": {},
   "outputs": [],
   "source": [
    "#passamos os valores do eixo Y, automaticamente os do eixo x são disposto de acordo com sua posição na lista grafico_pal \n",
    "plt.plot(grafico_pal, \"g:\", label =\"valor do palindromo em relação a sua posição\")\n",
    "plt.grid()\n",
    "plt.xlabel(\"n primeiros palidromos\")\n",
    "plt.ylabel(\"numeros palindromos\")\n",
    "plt.legend()"
   ]
  },
  {
   "cell_type": "code",
   "execution_count": null,
   "metadata": {},
   "outputs": [],
   "source": [
    "#O que faz np.diff? \n",
    "\n",
    "inter = np.diff(grafico_pal)\n",
    "plt.plot(inter, \":*\")"
   ]
  }
 ],
 "metadata": {
  "kernelspec": {
   "display_name": ".venv",
   "language": "python",
   "name": "python3"
  },
  "language_info": {
   "codemirror_mode": {
    "name": "ipython",
    "version": 3
   },
   "file_extension": ".py",
   "mimetype": "text/x-python",
   "name": "python",
   "nbconvert_exporter": "python",
   "pygments_lexer": "ipython3",
   "version": "3.10.12"
  }
 },
 "nbformat": 4,
 "nbformat_minor": 2
}
