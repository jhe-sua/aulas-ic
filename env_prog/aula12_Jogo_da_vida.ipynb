{
 "cells": [
  {
   "cell_type": "markdown",
   "metadata": {},
   "source": [
    "# Jogo da Vida de Conway\n",
    "\n",
    "Como programar uma simulação?\n",
    "\n",
    "- em uma simulacao temos interatividade, e resultados futuros muitas vezes depende de ações passadas\n",
    "- geralmente sistemas dinamicos sao representados no tempo\n",
    "\n",
    "O Jogo da Vida pode ser descrito como um grid bidimensional infinito de células, cada uma das quais pode estar viva ou morta. Cada célula interage com seus oito vizinhos, que são as células que estão horizontal, vertical ou diagonalmente adjacentes. Em cada passo do tempo, as seguintes regras são aplicadas a cada célula:\n",
    "1. Uma célula morta com exatamente três vizinhos vivos se torna uma célula viva.\n",
    "2. Uma célula viva com dois ou três vizinhos vivos permanece viva.\n",
    "3. Em todos os outros casos, uma célula viva morre ou permanece morta.\n",
    "\n",
    " Vamos implementar o Jogo da vida usando um array bidimensional para representar o grid. Cada célula será representada por um 0 se estiver morta e 1 se estiver viva. Vamos implementar uma função que recebe um grid inicial e o número de passos de tempo e retorna o grid após o número especificado de passos de tempo.\n",
    "\n",
    " esse grid nao precissa existir realmente, ela apenas pode ser uma analogia, como veremos a seguir "
   ]
  },
  {
   "cell_type": "code",
   "execution_count": 23,
   "metadata": {},
   "outputs": [],
   "source": [
    "import numpy as np\n",
    "import matplotlib.pyplot as plt\n",
    "from IPython.display import display\n",
    "import ipywidgets as widgets\n",
    "from ipywidgets import interact, IntSlider\n",
    "from collections import defaultdict"
   ]
  },
  {
   "cell_type": "markdown",
   "metadata": {},
   "source": [
    "# Simulador basico do jogo da vida\n",
    "\n",
    "definindo a vizinhanca de uma celula"
   ]
  },
  {
   "cell_type": "markdown",
   "metadata": {},
   "source": [
    "dado um valor x,y, uma vizinhança dessa celula serao as coordenadas\n",
    "\n",
    "- centro = (x, y)\n",
    "- direita = (x+1,y)\n",
    "- esquerda = (x-1,y)\n",
    "- acima = (x,y+1)\n",
    "- abaixo = (x, y-1)\n",
    "- direita_up = (x+1,y+1)\n",
    "- direita_down = (x+1, y-1)\n",
    "- esquerda_up = (x-1, y+1)\n",
    "- esquerda_down = (x-1, y-1)\n",
    "\n",
    "uma celula esta viva se o valor dela é 1, e esta morta se o valor dela é 0.\n",
    "começamos apenas com um grupo de celulas vivas assim:\n",
    "\n",
    "grupo_inicial = {(1,2):[1,0],(5,6):[1,0],(7,8):[1,0]}\n",
    "\n",
    "com esse grupo inicial, posso aplicar um loop de tempo, devemos definir o que é um loop de tempo. "
   ]
  },
  {
   "cell_type": "markdown",
   "metadata": {},
   "source": [
    "# Loop de Tempo\n",
    "no exatamente primeiro loop de tempo, devemos saber quantos vizinhos possui cada celula, entao o que fazemos é procurar todos os vizinhos de cada celula no meu grupo inicial, por cada um que esteja, a contagem de vizihos de cada celula aumenta 1"
   ]
  },
  {
   "cell_type": "code",
   "execution_count": 39,
   "metadata": {},
   "outputs": [
    {
     "data": {
      "text/plain": [
       "{(0, 0): [1, 2],\n",
       " (1, 1): [1, 2],\n",
       " (-1, -1): [1, 1],\n",
       " (0, 2): [1, 1],\n",
       " (1, 0): [0, 2],\n",
       " (1, -1): [0, 1],\n",
       " (0, 1): [0, 3],\n",
       " (0, -1): [0, 2],\n",
       " (-1, 1): [0, 2],\n",
       " (-1, 0): [0, 2],\n",
       " (2, 2): [0, 1],\n",
       " (2, 1): [0, 1],\n",
       " (2, 0): [0, 1],\n",
       " (1, 2): [0, 2],\n",
       " (0, -2): [0, 1],\n",
       " (-1, -2): [0, 1],\n",
       " (-2, 0): [0, 1],\n",
       " (-2, -1): [0, 1],\n",
       " (-2, -2): [0, 1],\n",
       " (1, 3): [0, 1],\n",
       " (0, 3): [0, 1],\n",
       " (-1, 3): [0, 1],\n",
       " (-1, 2): [0, 1]}"
      ]
     },
     "execution_count": 39,
     "metadata": {},
     "output_type": "execute_result"
    }
   ],
   "source": [
    "grid_inicial = {\n",
    "    (0,0):[1,0],\n",
    "    (1,1):[1,0],\n",
    "    (-1,-1):[1,0],\n",
    "    (0,2):[1,0]\n",
    "    }\n",
    "\n",
    "def quantos_vizinhos(grid: dict): #Aqui definimos quantos vizinhos possui cada uma das celulas vivas\n",
    "    vizinhos = defaultdict(lambda: [0,0])\n",
    "    for x, y in grid:\n",
    "        if (x+1,y+1) in grid:\n",
    "            grid[(x,y)][1] += 1 #Adicinando vizinho, se ele estiver no grid\n",
    "        else:\n",
    "            vizinhos[(x+1),(y+1)][1] += 1 #se nao estiver no grid, adiciona a celula morta no grid e coloca 1 vizinho nela\n",
    "\n",
    "        if (x+1,y) in grid:\n",
    "            grid[(x,y)][1] += 1\n",
    "        else:\n",
    "            vizinhos[(x+1),(y)][1] += 1\n",
    "\n",
    "        if (x+1,y-1) in grid:\n",
    "            grid[(x,y)][1] += 1\n",
    "        else:\n",
    "            vizinhos[(x+1),(y-1)][1] += 1\n",
    "\n",
    "        if (x,y+1) in grid:\n",
    "            grid[(x,y)][1] += 1\n",
    "        else:\n",
    "            vizinhos[(x),(y+1)][1] += 1\n",
    "\n",
    "        if (x,y-1) in grid:\n",
    "            grid[(x,y)][1] += 1\n",
    "        else:\n",
    "            vizinhos[(x),(y-1)][1] += 1\n",
    "\n",
    "        if (x-1,y+1) in grid:\n",
    "            grid[(x,y)][1] += 1\n",
    "        else:\n",
    "            vizinhos[(x-1),(y+1)][1] += 1\n",
    "\n",
    "        if (x-1,y) in grid:\n",
    "            grid[(x,y)][1] += 1\n",
    "        else:\n",
    "            vizinhos[(x-1),(y)][1] += 1\n",
    "            \n",
    "        if (x-1,y-1) in grid:\n",
    "            grid[(x,y)][1] += 1\n",
    "        else:\n",
    "            vizinhos[(x-1),(y-1)][1] += 1\n",
    "    grid.update(vizinhos)\n",
    "\n",
    "        \n",
    "\n",
    "quantos_vizinhos(grid_inicial)\n",
    "\n",
    "grid_inicial\n"
   ]
  },
  {
   "cell_type": "markdown",
   "metadata": {},
   "source": [
    "# Loop\n",
    "\n",
    "agora, apos saber quantos vizinhos nos temos, fazemos um loop com as regras\n",
    "1. Uma célula morta com exatamente três vizinhos vivos se torna uma célula viva.\n",
    "2. Uma célula viva com dois ou três vizinhos vivos permanece viva.\n",
    "3. Em todos os outros casos, uma célula viva morre ou permanece morta."
   ]
  },
  {
   "cell_type": "code",
   "execution_count": null,
   "metadata": {},
   "outputs": [],
   "source": [
    "def Loop(grid):\n",
    "    for celulas in grid:\n",
    "        "
   ]
  }
 ],
 "metadata": {
  "kernelspec": {
   "display_name": ".venv",
   "language": "python",
   "name": "python3"
  },
  "language_info": {
   "codemirror_mode": {
    "name": "ipython",
    "version": 3
   },
   "file_extension": ".py",
   "mimetype": "text/x-python",
   "name": "python",
   "nbconvert_exporter": "python",
   "pygments_lexer": "ipython3",
   "version": "3.13.3"
  }
 },
 "nbformat": 4,
 "nbformat_minor": 2
}
