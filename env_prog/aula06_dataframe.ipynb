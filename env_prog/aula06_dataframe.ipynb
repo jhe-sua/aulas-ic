{
 "cells": [
  {
   "cell_type": "markdown",
   "metadata": {},
   "source": [
    "# Teste"
   ]
  },
  {
   "cell_type": "code",
   "execution_count": 78,
   "metadata": {},
   "outputs": [],
   "source": [
    "import pandas as pd\n",
    "import numpy as np"
   ]
  },
  {
   "cell_type": "code",
   "execution_count": null,
   "metadata": {},
   "outputs": [],
   "source": [
    "#carregamos o arquivo em data\n",
    "data = pd.read_csv(\"/home/fgv/code/env_prog/arc/dados.csv\",header=2, sep=\",\")\n",
    "#apagamos a ultima coluna\n",
    "del data[\"Unnamed: 60\"]\n",
    "data"
   ]
  },
  {
   "cell_type": "code",
   "execution_count": 51,
   "metadata": {},
   "outputs": [],
   "source": [
    "#convertendo nosso dataframe em um arquivo parquet\n",
    "data.to_parquet(\"/home/fgv/code/env_prog/arc/aula06.parquet\")"
   ]
  },
  {
   "cell_type": "code",
   "execution_count": 50,
   "metadata": {},
   "outputs": [],
   "source": [
    "#faendo com que uma coluna seja o novo index\n",
    "data_2 = data.set_index(\"Country Code\")"
   ]
  },
  {
   "cell_type": "code",
   "execution_count": null,
   "metadata": {},
   "outputs": [],
   "source": [
    "#retorna todas as linhas que tiverem o index igual a BRA\n",
    "data_2.loc[\"BRA\"]"
   ]
  },
  {
   "cell_type": "code",
   "execution_count": null,
   "metadata": {},
   "outputs": [],
   "source": [
    "#aqui da coluna 1960, pegamos todas as linhas que não tiverem valores valores nulos e isso retorna um dataframe de cada linha com true ou false\n",
    "#logo data exibe cada linha com true\n",
    "data[pd.notna(data[\"1960\"])]"
   ]
  },
  {
   "cell_type": "code",
   "execution_count": null,
   "metadata": {},
   "outputs": [],
   "source": [
    "#pegamos todas as linhas que onde 1960 nao esta vazio e 1970 nao esta vazio\n",
    "#depois imprimimos as colunas \"Country Name\",\"1960\",\"1970\" desse arquivo data frame que continha todas as colunas que satisfaziam nossa condições\n",
    "\n",
    "data[(pd.notna(data[\"1960\"]))&(pd.notna(data[\"1970\"]))][[\"Country Name\",\"1960\",\"1970\"]]"
   ]
  }
 ],
 "metadata": {
  "kernelspec": {
   "display_name": ".venv",
   "language": "python",
   "name": "python3"
  },
  "language_info": {
   "codemirror_mode": {
    "name": "ipython",
    "version": 3
   },
   "file_extension": ".py",
   "mimetype": "text/x-python",
   "name": "python",
   "nbconvert_exporter": "python",
   "pygments_lexer": "ipython3",
   "version": "3.10.12"
  }
 },
 "nbformat": 4,
 "nbformat_minor": 2
}
